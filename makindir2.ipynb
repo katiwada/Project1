{
 "cells": [
  {
   "cell_type": "code",
   "execution_count": null,
   "metadata": {
    "collapsed": true
   },
   "outputs": [],
   "source": [
    "import os\n",
    "\n",
    "#creating variables\n",
    "pipeline_root = 'Users/katiwada/pipeline_root/'\n",
    "\n",
    "astrometry = pipeline_root + 'astrometry'\n",
    "stacking = pipeline_root + 'stacking'\n",
    "sex = pipeline_root + 'sex'\n",
    "finished_catalogs = pipeline_root + 'finished_catalogs'\n",
    "finished_stacked = pipeline_root + 'finished_stacked'\n",
    "target_data = pipeline_root + 'target_data'\n",
    "\n",
    "#making directories\n",
    "os.mkdir(pipeline_root)\n",
    "os.mkdir(astrometry)\n",
    "os.mkdir(stacking)\n",
    "os.mkdir(sex)\n",
    "os.mkdir(finished_catalogs)\n",
    "os.mkdir(finished_stacked)\n",
    "os.mkdir(target_data)\n",
    "\n"
   ]
  },
  {
   "cell_type": "code",
   "execution_count": null,
   "metadata": {
    "collapsed": true
   },
   "outputs": [],
   "source": []
  }
 ],
 "metadata": {
  "kernelspec": {
   "display_name": "Python 3",
   "language": "python",
   "name": "python3"
  }
 },
 "nbformat": 4,
 "nbformat_minor": 0
}
