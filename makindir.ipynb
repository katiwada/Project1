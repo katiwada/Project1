{
 "cells": [
  {
   "cell_type": "code",
   "execution_count": null,
   "metadata": {
    "collapsed": true
   },
   "outputs": [],
   "source": [
    "import os\n",
    "\n",
    "os.chdir(pipeline_root)\n",
    "\n",
    "os.mkdir(\"astrometry_directory\")\n",
    "os.mkdir(\"stacking_directory\")\n",
    "os.mkdir(\"sex_directory\")\n",
    "os.mkdir(\"finished_catalogs\")\n",
    "os.mkdir(\"finished_stacked\")\n",
    "os.mkdir(\"target_data\")\n",
    "\n",
    "os.getcwd()"
   ]
  },
  {
   "cell_type": "code",
   "execution_count": null,
   "metadata": {
    "collapsed": true
   },
   "outputs": [],
   "source": []
  }
 ],
 "metadata": {
  "kernelspec": {
   "display_name": "Python 3",
   "language": "python",
   "name": "python3"
  }
 },
 "nbformat": 4,
 "nbformat_minor": 0
}
